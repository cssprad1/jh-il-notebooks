{
 "cells": [
  {
   "cell_type": "markdown",
   "metadata": {},
   "source": [
    "# Introduction to cuML Random Forest and cuDF DataFrames\n",
    "\n",
    "RAPIDS is an open-source data analytics and machine learning acceleration platform which leverages Graphical Processing Units (GPUs) to accelerate computations. RAPIDS is based on Python, and mimics the APIs of popular data analytics and machine learning Python packages such as Pandas and Scikit-Learn. RAPIDS can scale from 1 to multi-GPU to multi-nodes. RAPIDS is particularly usefule because of it's end-end workflow - from data prep, to machine learning, to deep learning. \n",
    "\n",
    "In this notebook we will first discuss cuDF, the pandas-like data analytics and processing package. We will show how to import data from a csv to a GPU-based DataFrame. Then we will discuss and implement a simple Random Forest Classification model. We will train this Random Forest model from sample remote-sensing data. We will then save the Random Forest model and demonstrate how to load and reuse the model using [joblib](https://joblib.readthedocs.io/en/latest/) \n",
    "\n",
    "For additional information on RAPIDS cuDF, refer to the [cuDF docs](https://docs.rapids.ai/api/cudf/stable)\n",
    "\n",
    "For additional information on RAPIDS cuML's Random Forest model, see [cuML Random Forest Regressor](https://docs.rapids.ai/api/cuml/stable/api.html#random-forest)"
   ]
  },
  {
   "cell_type": "code",
   "execution_count": 1,
   "metadata": {},
   "outputs": [
    {
     "name": "stdout",
     "output_type": "stream",
     "text": [
      "Mon Dec 14 09:11:42 2020       \n",
      "+-----------------------------------------------------------------------------+\n",
      "| NVIDIA-SMI 440.33.01    Driver Version: 440.33.01    CUDA Version: 10.2     |\n",
      "|-------------------------------+----------------------+----------------------+\n",
      "| GPU  Name        Persistence-M| Bus-Id        Disp.A | Volatile Uncorr. ECC |\n",
      "| Fan  Temp  Perf  Pwr:Usage/Cap|         Memory-Usage | GPU-Util  Compute M. |\n",
      "|===============================+======================+======================|\n",
      "|   0  Tesla V100-SXM2...  On   | 00000000:61:00.0 Off |                    0 |\n",
      "| N/A   37C    P0    39W / 300W |     11MiB / 16160MiB |      0%      Default |\n",
      "+-------------------------------+----------------------+----------------------+\n",
      "|   1  Tesla V100-SXM2...  On   | 00000000:62:00.0 Off |                    0 |\n",
      "| N/A   38C    P0    41W / 300W |     11MiB / 16160MiB |      0%      Default |\n",
      "+-------------------------------+----------------------+----------------------+\n",
      "|   2  Tesla V100-SXM2...  On   | 00000000:89:00.0 Off |                    0 |\n",
      "| N/A   37C    P0    39W / 300W |      0MiB / 16160MiB |      0%      Default |\n",
      "+-------------------------------+----------------------+----------------------+\n",
      "|   3  Tesla V100-SXM2...  On   | 00000000:8A:00.0 Off |                    0 |\n",
      "| N/A   37C    P0    39W / 300W |      0MiB / 16160MiB |      0%      Default |\n",
      "+-------------------------------+----------------------+----------------------+\n",
      "                                                                               \n",
      "+-----------------------------------------------------------------------------+\n",
      "| Processes:                                                       GPU Memory |\n",
      "|  GPU       PID   Type   Process name                             Usage      |\n",
      "|=============================================================================|\n",
      "|  No running processes found                                                 |\n",
      "+-----------------------------------------------------------------------------+\n"
     ]
    }
   ],
   "source": [
    "import cudf\n",
    "import cupy as cp\n",
    "\n",
    "from cuml.ensemble import RandomForestRegressor as curfr\n",
    "from cuml.metrics import mean_squared_error, r2_score\n",
    "from cuml import train_test_split\n",
    "\n",
    "import joblib\n",
    "import pandas as pd\n",
    "from sklearn.inspection import permutation_importance\n",
    "import matplotlib.pyplot as plt\n",
    "import random\n",
    "\n",
    "!nvidia-smi"
   ]
  },
  {
   "cell_type": "markdown",
   "metadata": {},
   "source": [
    "## Import Data\n",
    "\n",
    "In this demo, we have the option of using one of two datasets ('aviris_bands_extract_final.csv', 'train_validate_10_final.csv') from the \\'Data\\' folder. This data is a sample of bands used to train our model to predict lake depth from raster data. \n",
    "\n",
    "The datasets are different in the fact that 'aviris_bands_extract_final' samples 390 spectral bands, while 'train_validate_10_final.csv' samples only 10. You can switch the notebook to use one of the two. Notice how well the GPU model deals with large data speed-wise. \n",
    "\n",
    "Note: Be wary that the permutation cell block will be very slow on the large dataset due to us using a cpu-based function. \n",
    "\n",
    "In this example, we will highlight two ways to import data to a GPU-based DataFrame.\n",
    "\n",
    "The first method is to import directly using cuDF's `read_csv()` function. A second method, more geared to those familiar with Pandas, is to import data to a Pandas DataFrame then convert the CPU-based DataFrame to a cuDF GPU-based DataFrame.\n",
    "\n",
    "Notice the timing difference between a CPU-based read with a shift to GPU memory and a direct read to GPU memory."
   ]
  },
  {
   "cell_type": "code",
   "execution_count": 2,
   "metadata": {},
   "outputs": [
    {
     "name": "stdout",
     "output_type": "stream",
     "text": [
      "CPU times: user 2.4 s, sys: 2.23 s, total: 4.63 s\n",
      "Wall time: 1min 31s\n"
     ]
    }
   ],
   "source": [
    "%%time\n",
    "df_pandas = pd.read_csv('Data/train_validate_10_final.csv') # A much smaller dataset\n",
    "#df_pandas = pd.read_csv('Data/aviris_bands_extract_final.csv') # Read the csv into a pandas DataFrame\n",
    "cudf_df = cudf.DataFrame.from_pandas(df_pandas) # Read the Pandas DF to GPU memory as a cuDF DataFrame"
   ]
  },
  {
   "cell_type": "code",
   "execution_count": 3,
   "metadata": {},
   "outputs": [
    {
     "name": "stdout",
     "output_type": "stream",
     "text": [
      "CPU times: user 8.12 ms, sys: 16.1 ms, total: 24.2 ms\n",
      "Wall time: 226 ms\n"
     ]
    }
   ],
   "source": [
    "%%time \n",
    "gpu_dataset = cudf.read_csv('Data/train_validate_10_final.csv') # Smaller dataset\n",
    "#gpu_dataset = cudf.read_csv('Data/aviris_bands_extract_final.csv') # Read the csv directly into GPU memory\n",
    "gpu_dataset = gpu_dataset.astype(cp.float32)"
   ]
  },
  {
   "cell_type": "markdown",
   "metadata": {},
   "source": [
    "Since we were creating two seperate examples of the same data, we can get rid of one the first example."
   ]
  },
  {
   "cell_type": "code",
   "execution_count": 4,
   "metadata": {},
   "outputs": [],
   "source": [
    "df_pandas = None\n",
    "cudf_df = None"
   ]
  },
  {
   "cell_type": "markdown",
   "metadata": {},
   "source": [
    "Now that we have the dataset loaded into GPU memory. Let's poke around at our data using cuDF's handy functions. "
   ]
  },
  {
   "cell_type": "code",
   "execution_count": 5,
   "metadata": {},
   "outputs": [
    {
     "data": {
      "text/html": [
       "<div>\n",
       "<style scoped>\n",
       "    .dataframe tbody tr th:only-of-type {\n",
       "        vertical-align: middle;\n",
       "    }\n",
       "\n",
       "    .dataframe tbody tr th {\n",
       "        vertical-align: top;\n",
       "    }\n",
       "\n",
       "    .dataframe thead th {\n",
       "        text-align: right;\n",
       "    }\n",
       "</style>\n",
       "<table border=\"1\" class=\"dataframe\">\n",
       "  <thead>\n",
       "    <tr style=\"text-align: right;\">\n",
       "      <th></th>\n",
       "      <th>depth_m</th>\n",
       "      <th>b59_ang201</th>\n",
       "      <th>b60_ang201</th>\n",
       "      <th>b61_ang201</th>\n",
       "      <th>b62_ang201</th>\n",
       "      <th>b65_ang201</th>\n",
       "      <th>b67_ang201</th>\n",
       "      <th>b73_ang201</th>\n",
       "      <th>b74_ang201</th>\n",
       "      <th>b76_ang201</th>\n",
       "      <th>b78_ang201</th>\n",
       "    </tr>\n",
       "  </thead>\n",
       "  <tbody>\n",
       "    <tr>\n",
       "      <th>0</th>\n",
       "      <td>0.766572</td>\n",
       "      <td>0.033982</td>\n",
       "      <td>0.033714</td>\n",
       "      <td>0.032013</td>\n",
       "      <td>0.031970</td>\n",
       "      <td>0.027843</td>\n",
       "      <td>0.024982</td>\n",
       "      <td>0.013986</td>\n",
       "      <td>0.014606</td>\n",
       "      <td>0.014061</td>\n",
       "      <td>0.014546</td>\n",
       "    </tr>\n",
       "    <tr>\n",
       "      <th>1</th>\n",
       "      <td>0.717804</td>\n",
       "      <td>0.033982</td>\n",
       "      <td>0.033714</td>\n",
       "      <td>0.032013</td>\n",
       "      <td>0.031970</td>\n",
       "      <td>0.027843</td>\n",
       "      <td>0.024982</td>\n",
       "      <td>0.013986</td>\n",
       "      <td>0.014606</td>\n",
       "      <td>0.014061</td>\n",
       "      <td>0.014546</td>\n",
       "    </tr>\n",
       "    <tr>\n",
       "      <th>2</th>\n",
       "      <td>0.859536</td>\n",
       "      <td>0.026502</td>\n",
       "      <td>0.026912</td>\n",
       "      <td>0.025114</td>\n",
       "      <td>0.025549</td>\n",
       "      <td>0.021589</td>\n",
       "      <td>0.020254</td>\n",
       "      <td>0.011278</td>\n",
       "      <td>0.011378</td>\n",
       "      <td>0.011042</td>\n",
       "      <td>0.011603</td>\n",
       "    </tr>\n",
       "    <tr>\n",
       "      <th>3</th>\n",
       "      <td>0.777240</td>\n",
       "      <td>0.027229</td>\n",
       "      <td>0.027591</td>\n",
       "      <td>0.025463</td>\n",
       "      <td>0.024831</td>\n",
       "      <td>0.021866</td>\n",
       "      <td>0.020672</td>\n",
       "      <td>0.012735</td>\n",
       "      <td>0.012505</td>\n",
       "      <td>0.012746</td>\n",
       "      <td>0.012870</td>\n",
       "    </tr>\n",
       "    <tr>\n",
       "      <th>4</th>\n",
       "      <td>0.649224</td>\n",
       "      <td>0.031175</td>\n",
       "      <td>0.031153</td>\n",
       "      <td>0.030272</td>\n",
       "      <td>0.029274</td>\n",
       "      <td>0.025335</td>\n",
       "      <td>0.023088</td>\n",
       "      <td>0.010361</td>\n",
       "      <td>0.011387</td>\n",
       "      <td>0.011305</td>\n",
       "      <td>0.011338</td>\n",
       "    </tr>\n",
       "  </tbody>\n",
       "</table>\n",
       "</div>"
      ],
      "text/plain": [
       "    depth_m  b59_ang201  b60_ang201  b61_ang201  b62_ang201  b65_ang201  \\\n",
       "0  0.766572    0.033982    0.033714    0.032013    0.031970    0.027843   \n",
       "1  0.717804    0.033982    0.033714    0.032013    0.031970    0.027843   \n",
       "2  0.859536    0.026502    0.026912    0.025114    0.025549    0.021589   \n",
       "3  0.777240    0.027229    0.027591    0.025463    0.024831    0.021866   \n",
       "4  0.649224    0.031175    0.031153    0.030272    0.029274    0.025335   \n",
       "\n",
       "   b67_ang201  b73_ang201  b74_ang201  b76_ang201  b78_ang201  \n",
       "0    0.024982    0.013986    0.014606    0.014061    0.014546  \n",
       "1    0.024982    0.013986    0.014606    0.014061    0.014546  \n",
       "2    0.020254    0.011278    0.011378    0.011042    0.011603  \n",
       "3    0.020672    0.012735    0.012505    0.012746    0.012870  \n",
       "4    0.023088    0.010361    0.011387    0.011305    0.011338  "
      ]
     },
     "execution_count": 5,
     "metadata": {},
     "output_type": "execute_result"
    }
   ],
   "source": [
    "gpu_dataset.head(5)"
   ]
  },
  {
   "cell_type": "markdown",
   "metadata": {},
   "source": [
    "Looking at the above sample. We can see that we have the depth_m which will act as our training predictor. We also have 390 different AVIRIS bands to work with.\n",
    "\n",
    "Since we're going to want to train with this data, we need to split the data up from the covariates (AVIRIS bands) and the training predictors (depth_m). We can do this very easily using the Pandas-like API."
   ]
  },
  {
   "cell_type": "code",
   "execution_count": 6,
   "metadata": {},
   "outputs": [],
   "source": [
    "training_predictors = gpu_dataset['depth_m']\n",
    "covariates = gpu_dataset.drop(['depth_m'], axis=1)"
   ]
  },
  {
   "cell_type": "markdown",
   "metadata": {},
   "source": [
    "That was simple. Now let's look at what we can do with some more cuDF functions. "
   ]
  },
  {
   "cell_type": "code",
   "execution_count": 7,
   "metadata": {},
   "outputs": [
    {
     "data": {
      "text/plain": [
       "count    5243.000000\n",
       "mean        1.373884\n",
       "std         0.429527\n",
       "min         0.470408\n",
       "25%         1.099565\n",
       "50%         1.475230\n",
       "75%         1.743460\n",
       "max         2.097020\n",
       "Name: depth_m, dtype: float64"
      ]
     },
     "execution_count": 7,
     "metadata": {},
     "output_type": "execute_result"
    }
   ],
   "source": [
    "training_predictors.describe()"
   ]
  },
  {
   "cell_type": "code",
   "execution_count": 8,
   "metadata": {},
   "outputs": [
    {
     "name": "stdout",
     "output_type": "stream",
     "text": [
      "CPU times: user 311 ms, sys: 80 ms, total: 391 ms\n",
      "Wall time: 10.1 s\n"
     ]
    },
    {
     "data": {
      "text/html": [
       "<div>\n",
       "<style scoped>\n",
       "    .dataframe tbody tr th:only-of-type {\n",
       "        vertical-align: middle;\n",
       "    }\n",
       "\n",
       "    .dataframe tbody tr th {\n",
       "        vertical-align: top;\n",
       "    }\n",
       "\n",
       "    .dataframe thead th {\n",
       "        text-align: right;\n",
       "    }\n",
       "</style>\n",
       "<table border=\"1\" class=\"dataframe\">\n",
       "  <thead>\n",
       "    <tr style=\"text-align: right;\">\n",
       "      <th></th>\n",
       "      <th>b59_ang201</th>\n",
       "      <th>b60_ang201</th>\n",
       "      <th>b61_ang201</th>\n",
       "      <th>b62_ang201</th>\n",
       "      <th>b65_ang201</th>\n",
       "      <th>b67_ang201</th>\n",
       "      <th>b73_ang201</th>\n",
       "      <th>b74_ang201</th>\n",
       "      <th>b76_ang201</th>\n",
       "      <th>b78_ang201</th>\n",
       "    </tr>\n",
       "  </thead>\n",
       "  <tbody>\n",
       "    <tr>\n",
       "      <th>count</th>\n",
       "      <td>5243.000000</td>\n",
       "      <td>5243.000000</td>\n",
       "      <td>5243.000000</td>\n",
       "      <td>5243.000000</td>\n",
       "      <td>5243.000000</td>\n",
       "      <td>5243.000000</td>\n",
       "      <td>5243.000000</td>\n",
       "      <td>5243.000000</td>\n",
       "      <td>5243.000000</td>\n",
       "      <td>5243.000000</td>\n",
       "    </tr>\n",
       "    <tr>\n",
       "      <th>mean</th>\n",
       "      <td>0.031550</td>\n",
       "      <td>0.031185</td>\n",
       "      <td>0.029731</td>\n",
       "      <td>0.029375</td>\n",
       "      <td>0.026706</td>\n",
       "      <td>0.024247</td>\n",
       "      <td>0.013804</td>\n",
       "      <td>0.014180</td>\n",
       "      <td>0.014116</td>\n",
       "      <td>0.014009</td>\n",
       "    </tr>\n",
       "    <tr>\n",
       "      <th>std</th>\n",
       "      <td>0.004561</td>\n",
       "      <td>0.004575</td>\n",
       "      <td>0.004461</td>\n",
       "      <td>0.004481</td>\n",
       "      <td>0.004184</td>\n",
       "      <td>0.004098</td>\n",
       "      <td>0.003248</td>\n",
       "      <td>0.003330</td>\n",
       "      <td>0.003392</td>\n",
       "      <td>0.003391</td>\n",
       "    </tr>\n",
       "    <tr>\n",
       "      <th>min</th>\n",
       "      <td>0.022300</td>\n",
       "      <td>0.022247</td>\n",
       "      <td>0.021359</td>\n",
       "      <td>0.020706</td>\n",
       "      <td>0.017501</td>\n",
       "      <td>0.015925</td>\n",
       "      <td>0.004294</td>\n",
       "      <td>0.004750</td>\n",
       "      <td>0.004613</td>\n",
       "      <td>0.003249</td>\n",
       "    </tr>\n",
       "    <tr>\n",
       "      <th>25%</th>\n",
       "      <td>0.028299</td>\n",
       "      <td>0.027867</td>\n",
       "      <td>0.026529</td>\n",
       "      <td>0.026120</td>\n",
       "      <td>0.023692</td>\n",
       "      <td>0.021381</td>\n",
       "      <td>0.012834</td>\n",
       "      <td>0.013126</td>\n",
       "      <td>0.013113</td>\n",
       "      <td>0.013022</td>\n",
       "    </tr>\n",
       "    <tr>\n",
       "      <th>50%</th>\n",
       "      <td>0.030487</td>\n",
       "      <td>0.030170</td>\n",
       "      <td>0.028726</td>\n",
       "      <td>0.028313</td>\n",
       "      <td>0.025637</td>\n",
       "      <td>0.023053</td>\n",
       "      <td>0.013932</td>\n",
       "      <td>0.014245</td>\n",
       "      <td>0.014120</td>\n",
       "      <td>0.013994</td>\n",
       "    </tr>\n",
       "    <tr>\n",
       "      <th>75%</th>\n",
       "      <td>0.033626</td>\n",
       "      <td>0.033244</td>\n",
       "      <td>0.031814</td>\n",
       "      <td>0.031538</td>\n",
       "      <td>0.028830</td>\n",
       "      <td>0.026363</td>\n",
       "      <td>0.015050</td>\n",
       "      <td>0.015408</td>\n",
       "      <td>0.015316</td>\n",
       "      <td>0.015153</td>\n",
       "    </tr>\n",
       "    <tr>\n",
       "      <th>max</th>\n",
       "      <td>0.051969</td>\n",
       "      <td>0.051937</td>\n",
       "      <td>0.052641</td>\n",
       "      <td>0.053870</td>\n",
       "      <td>0.066151</td>\n",
       "      <td>0.079642</td>\n",
       "      <td>0.105788</td>\n",
       "      <td>0.107176</td>\n",
       "      <td>0.112849</td>\n",
       "      <td>0.115969</td>\n",
       "    </tr>\n",
       "  </tbody>\n",
       "</table>\n",
       "</div>"
      ],
      "text/plain": [
       "        b59_ang201   b60_ang201   b61_ang201   b62_ang201   b65_ang201  \\\n",
       "count  5243.000000  5243.000000  5243.000000  5243.000000  5243.000000   \n",
       "mean      0.031550     0.031185     0.029731     0.029375     0.026706   \n",
       "std       0.004561     0.004575     0.004461     0.004481     0.004184   \n",
       "min       0.022300     0.022247     0.021359     0.020706     0.017501   \n",
       "25%       0.028299     0.027867     0.026529     0.026120     0.023692   \n",
       "50%       0.030487     0.030170     0.028726     0.028313     0.025637   \n",
       "75%       0.033626     0.033244     0.031814     0.031538     0.028830   \n",
       "max       0.051969     0.051937     0.052641     0.053870     0.066151   \n",
       "\n",
       "        b67_ang201   b73_ang201   b74_ang201   b76_ang201   b78_ang201  \n",
       "count  5243.000000  5243.000000  5243.000000  5243.000000  5243.000000  \n",
       "mean      0.024247     0.013804     0.014180     0.014116     0.014009  \n",
       "std       0.004098     0.003248     0.003330     0.003392     0.003391  \n",
       "min       0.015925     0.004294     0.004750     0.004613     0.003249  \n",
       "25%       0.021381     0.012834     0.013126     0.013113     0.013022  \n",
       "50%       0.023053     0.013932     0.014245     0.014120     0.013994  \n",
       "75%       0.026363     0.015050     0.015408     0.015316     0.015153  \n",
       "max       0.079642     0.105788     0.107176     0.112849     0.115969  "
      ]
     },
     "execution_count": 8,
     "metadata": {},
     "output_type": "execute_result"
    }
   ],
   "source": [
    "%%time\n",
    "\n",
    "covariates.describe()"
   ]
  },
  {
   "cell_type": "markdown",
   "metadata": {},
   "source": [
    "In order to train and test the Random Forest model, we'll need to split the data into training and testing data. Fortunately, cuML implements this function, which operates exactly like Scikit-Learn's `train_test_split`"
   ]
  },
  {
   "cell_type": "code",
   "execution_count": 10,
   "metadata": {},
   "outputs": [],
   "source": [
    "X_train, X_test, y_train, y_test = train_test_split(covariates, \n",
    "                                                    training_predictors, \n",
    "                                                    shuffle=True, \n",
    "                                                    train_size = 0.8)"
   ]
  },
  {
   "cell_type": "code",
   "execution_count": 11,
   "metadata": {},
   "outputs": [
    {
     "name": "stdout",
     "output_type": "stream",
     "text": [
      "Training features shape:  (4194, 10)\n",
      "Training labels shape:  (4194,)\n",
      "Testing features shape:  (1049, 10)\n",
      "Testing labels shape:  (1049,)\n"
     ]
    }
   ],
   "source": [
    "print('Training features shape: ', X_train.shape)\n",
    "print('Training labels shape: ', y_train.shape)\n",
    "print('Testing features shape: ', X_test.shape)\n",
    "print('Testing labels shape: ', y_test.shape)"
   ]
  },
  {
   "cell_type": "markdown",
   "metadata": {},
   "source": [
    "## cuML Random Forest Regressor\n",
    "\n",
    "Here we're going to initialize and fit the cuML model. Given the speed-up we get from GPU-based computations, we can afford a large Random Forest. \n",
    "\n",
    "Note: Igonore the warnings you may get with this."
   ]
  },
  {
   "cell_type": "code",
   "execution_count": 12,
   "metadata": {},
   "outputs": [
    {
     "name": "stderr",
     "output_type": "stream",
     "text": [
      "/home/cssprad1/.conda/envs/rapids-0.16/lib/python3.7/site-packages/ipykernel_launcher.py:4: UserWarning: For reproducible results in Random Forest Classifier or for almost reproducible results in Random Forest Regressor, n_streams==1 is recommended. If n_streams is > 1, results may vary due to stream/thread timing differences, even when random_state is set\n",
      "  after removing the cwd from sys.path.\n"
     ]
    },
    {
     "name": "stdout",
     "output_type": "stream",
     "text": [
      "CPU times: user 7.11 s, sys: 5.11 s, total: 12.2 s\n",
      "Wall time: 5.09 s\n"
     ]
    },
    {
     "data": {
      "text/plain": [
       "RandomForestRegressor(split_criterion=2, accuracy_metric='r2', handle=<cuml.raft.common.handle.Handle object at 0x7fd6b3fdaa30>, verbose=4, output_type='cudf')"
      ]
     },
     "execution_count": 12,
     "metadata": {},
     "output_type": "execute_result"
    }
   ],
   "source": [
    "%%time\n",
    "\n",
    "cuml_model = curfr(n_estimators=1000,\n",
    "                  max_depth = 50,\n",
    "                  max_features = 'auto',\n",
    "                  random_state = 42)\n",
    "\n",
    "cuml_model.fit(X_train, y_train)"
   ]
  },
  {
   "cell_type": "markdown",
   "metadata": {},
   "source": [
    "### Evaluate"
   ]
  },
  {
   "cell_type": "code",
   "execution_count": 13,
   "metadata": {},
   "outputs": [
    {
     "name": "stdout",
     "output_type": "stream",
     "text": [
      "CPU times: user 2.54 s, sys: 858 ms, total: 3.4 s\n",
      "Wall time: 3.35 s\n"
     ]
    }
   ],
   "source": [
    "%%time\n",
    "\n",
    "predictions = cuml_model.predict(X_test)\n",
    "\n",
    "mae_cuml_model = mean_squared_error(y_test, predictions)\n",
    "r2_cuml_model = r2_score(y_test, predictions)"
   ]
  },
  {
   "cell_type": "markdown",
   "metadata": {},
   "source": [
    "### Saving and loading a cuML model\n",
    "\n",
    "Here we're going to use joblib to save and load out random forest model."
   ]
  },
  {
   "cell_type": "code",
   "execution_count": 14,
   "metadata": {},
   "outputs": [],
   "source": [
    "filename = 'Models/cuml_aviris_random_forest.sav'\n",
    "# Save the trained model into a file\n",
    "joblib.dump(cuml_model, open(filename, 'wb'))\n",
    "# Delete the previous model to ensure there is no leakage of pointers. \n",
    "del cuml_model\n",
    "# Load the saved pre-trained model from a file\n",
    "saved_cuml_model = joblib.load(open(filename, 'rb'))"
   ]
  },
  {
   "cell_type": "markdown",
   "metadata": {},
   "source": [
    "### Predictions after being saved"
   ]
  },
  {
   "cell_type": "code",
   "execution_count": 15,
   "metadata": {},
   "outputs": [
    {
     "name": "stdout",
     "output_type": "stream",
     "text": [
      "CPU times: user 344 ms, sys: 80.8 ms, total: 424 ms\n",
      "Wall time: 420 ms\n"
     ]
    }
   ],
   "source": [
    "%%time \n",
    "\n",
    "prediction_post_save = saved_cuml_model.predict(X_test)\n",
    "\n",
    "mae_post_save = mean_squared_error(y_test, prediction_post_save)\n",
    "r2_post_save = r2_score(y_test, prediction_post_save)"
   ]
  },
  {
   "cell_type": "markdown",
   "metadata": {},
   "source": [
    "# Compare and examine results"
   ]
  },
  {
   "cell_type": "code",
   "execution_count": 16,
   "metadata": {},
   "outputs": [
    {
     "name": "stdout",
     "output_type": "stream",
     "text": [
      "CUML mean absolute error of RF model before saving: 0.058456495\n",
      "CUML mean absolute error of RF model after saving: 0.058456495\n",
      "CUML r^2 score of RF model before saving: 0.6893738508224487\n",
      "CUML r^2 score of RF model after saving: 0.6893738508224487\n"
     ]
    }
   ],
   "source": [
    "print('CUML mean absolute error of RF model before saving: %s' % mae_cuml_model)\n",
    "print('CUML mean absolute error of RF model after saving: %s' % mae_post_save)\n",
    "\n",
    "print('CUML r^2 score of RF model before saving: %s' % r2_cuml_model)\n",
    "print('CUML r^2 score of RF model after saving: %s' % r2_post_save)"
   ]
  },
  {
   "cell_type": "markdown",
   "metadata": {},
   "source": [
    "## Results Visualization\n",
    "\n",
    "Here we can use JupyterHub to examine plots inline."
   ]
  },
  {
   "cell_type": "code",
   "execution_count": 17,
   "metadata": {},
   "outputs": [
    {
     "data": {
      "image/png": "[encoded data removed]",
      "text/plain": [
       "<Figure size 432x288 with 1 Axes>"
      ]
     },
     "metadata": {
      "needs_background": "light"
     },
     "output_type": "display_data"
    }
   ],
   "source": [
    "plt.scatter(y_test.to_array(), predictions.to_array())\n",
    "plt.xlabel(\"Actual Depth: $Y_i$\")\n",
    "plt.ylabel(\"Predicted Depth: $\\hat{Y}_i$\")\n",
    "plt.title(\"cuML RF Actual vs Predicted\")\n",
    "plt.show()"
   ]
  },
  {
   "cell_type": "markdown",
   "metadata": {},
   "source": [
    "Let's look at a random sample of datapoints to see the actual vs predicted depths"
   ]
  },
  {
   "cell_type": "code",
   "execution_count": 18,
   "metadata": {},
   "outputs": [
    {
     "name": "stdout",
     "output_type": "stream",
     "text": [
      "Data-point:   183 Actual:    1.767840027809143 Predicted: 1.3553369045257568\n",
      "Data-point:  1007 Actual:   0.7924799919128418 Predicted: 1.1231991052627563\n",
      "Data-point:  1037 Actual:   1.5788600444793701 Predicted: 1.6620885133743286\n",
      "Data-point:   424 Actual:    1.575819969177246 Predicted: 1.5628933906555176\n",
      "Data-point:   785 Actual:   1.5057100057601929 Predicted: 1.4310120344161987\n",
      "Data-point:   281 Actual:   1.7861299514770508 Predicted: 1.6622835397720337\n",
      "Data-point:    38 Actual:   0.4846319854259491 Predicted: 0.679193377494812\n",
      "Data-point:   817 Actual:   1.8074599504470825 Predicted: 1.9002385139465332\n",
      "Data-point:     1 Actual:   1.4673800468444824 Predicted: 0.7570716142654419\n",
      "Data-point:  1043 Actual:   1.8867100477218628 Predicted: 1.8417524099349976\n",
      "Data-point:   822 Actual:   1.0302200317382812 Predicted: 1.3960161209106445\n",
      "Data-point:   575 Actual:   1.2511999607086182 Predicted: 1.4458823204040527\n",
      "Data-point:   390 Actual:   1.7434600591659546 Predicted: 1.5082930326461792\n",
      "Data-point:   855 Actual:   0.6964679956436157 Predicted: 0.9675294756889343\n",
      "Data-point:   290 Actual:    1.609339952468872 Predicted: 1.798474907875061\n",
      "Data-point:   289 Actual:   0.7117080092430115 Predicted: 0.9774829745292664\n",
      "Data-point:   925 Actual:   1.4279899597167969 Predicted: 1.5827679634094238\n",
      "Data-point:   605 Actual:   1.6946899890899658 Predicted: 1.6993287801742554\n",
      "Data-point:   479 Actual:   0.7376160025596619 Predicted: 1.1958743333816528\n",
      "Data-point:   791 Actual:    1.844040036201477 Predicted: 1.737401008605957\n"
     ]
    }
   ],
   "source": [
    "# Lets look at a random sample of datapoints to see the actual vs predicted depths\n",
    "for i in range(20):\n",
    "    random_data_point = random.randint(0, 1049)\n",
    "    print('Data-point: {:5} Actual: {:20} Predicted: {}'.format(random_data_point, y_test.to_array()[random_data_point],\n",
    "                                               predictions.to_array()[random_data_point]))"
   ]
  },
  {
   "cell_type": "markdown",
   "metadata": {},
   "source": [
    "# Using sklearn with GPU models\n",
    "\n",
    "### We can use most of sklearn's tools on our cuML models, one example being permutation importance!\n",
    "\n",
    "Find the permutation importance using sklearn's implementation (works with cuML models)"
   ]
  },
  {
   "cell_type": "code",
   "execution_count": 19,
   "metadata": {},
   "outputs": [
    {
     "name": "stdout",
     "output_type": "stream",
     "text": [
      "Variables: b73_ang201           Importance: 0.50372\n",
      "Variables: b78_ang201           Importance: 0.27456\n",
      "Variables: b67_ang201           Importance: 0.25601\n",
      "Variables: b60_ang201           Importance: 0.19258\n",
      "Variables: b61_ang201           Importance: 0.14684\n",
      "Variables: b59_ang201           Importance: 0.14522\n",
      "Variables: b65_ang201           Importance: 0.11431\n",
      "Variables: b76_ang201           Importance: 0.09285\n",
      "Variables: b74_ang201           Importance: 0.08402\n",
      "Variables: b62_ang201           Importance: 0.03812\n",
      "CPU times: user 12.8 s, sys: 1.93 s, total: 14.7 s\n",
      "Wall time: 14.7 s\n"
     ]
    }
   ],
   "source": [
    "%%time\n",
    "\n",
    "perm_imp = permutation_importance(saved_cuml_model, X_test, y_test)\n",
    "spectral_bands_list = list(covariates.columns)\n",
    "importances = perm_imp.importances_mean\n",
    "feature_importances = [(feature, (round(importance, 5))) for\n",
    "                      feature, importance in zip(spectral_bands_list, importances)]\n",
    "feature_importances = sorted(feature_importances, key = lambda x: x[1], reverse = True)\n",
    "_ = [print('Variables: {:20} Importance: {}'.format(*pair)) for pair in feature_importances]"
   ]
  }
 ],
 "metadata": {
  "kernelspec": {
   "display_name": "Python [conda env:.conda-rapids-0.16]",
   "language": "python",
   "name": "conda-env-.conda-rapids-0.16-py"
  },
  "language_info": {
   "codemirror_mode": {
    "name": "ipython",
    "version": 3
   },
   "file_extension": ".py",
   "mimetype": "text/x-python",
   "name": "python",
   "nbconvert_exporter": "python",
   "pygments_lexer": "ipython3",
   "version": "3.7.8"
  }
 },
 "nbformat": 4,
 "nbformat_minor": 4
}
