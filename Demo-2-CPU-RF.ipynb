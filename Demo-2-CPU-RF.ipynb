{
 "cells": [
  {
   "cell_type": "markdown",
   "metadata": {},
   "source": [
    "# Scikit-Learn (CPU) version of Demo-1\n",
    "\n",
    "On the smaller dataset, the times will be similar. Check out how the times differ between GPU computations and CPU computations on the large dataset."
   ]
  },
  {
   "cell_type": "code",
   "execution_count": 25,
   "metadata": {},
   "outputs": [],
   "source": [
    "from sklearn.model_selection import train_test_split\n",
    "from sklearn.ensemble import RandomForestRegressor as rfr\n",
    "from sklearn.metrics import mean_squared_error, r2_score\n",
    "from sklearn.inspection import permutation_importance\n",
    "\n",
    "import pandas as pd\n",
    "import joblib\n",
    "import matplotlib.pyplot as plt\n",
    "import random\n",
    "import numpy as np"
   ]
  },
  {
   "cell_type": "code",
   "execution_count": null,
   "metadata": {},
   "outputs": [],
   "source": [
    "%%time\n",
    "df_pandas = pd.read_csv('Data/train_validate_10_final.csv') # A much smaller dataset\n",
    "#df_pandas = pd.read_csv('Data/aviris_bands_extract_final.csv') # Read the csv into a pandas DataFrame"
   ]
  },
  {
   "cell_type": "code",
   "execution_count": 5,
   "metadata": {},
   "outputs": [
    {
     "data": {
      "text/html": [
       "<div>\n",
       "<style scoped>\n",
       "    .dataframe tbody tr th:only-of-type {\n",
       "        vertical-align: middle;\n",
       "    }\n",
       "\n",
       "    .dataframe tbody tr th {\n",
       "        vertical-align: top;\n",
       "    }\n",
       "\n",
       "    .dataframe thead th {\n",
       "        text-align: right;\n",
       "    }\n",
       "</style>\n",
       "<table border=\"1\" class=\"dataframe\">\n",
       "  <thead>\n",
       "    <tr style=\"text-align: right;\">\n",
       "      <th></th>\n",
       "      <th>depth_m</th>\n",
       "      <th>b59_ang201</th>\n",
       "      <th>b60_ang201</th>\n",
       "      <th>b61_ang201</th>\n",
       "      <th>b62_ang201</th>\n",
       "      <th>b65_ang201</th>\n",
       "      <th>b67_ang201</th>\n",
       "      <th>b73_ang201</th>\n",
       "      <th>b74_ang201</th>\n",
       "      <th>b76_ang201</th>\n",
       "      <th>b78_ang201</th>\n",
       "    </tr>\n",
       "  </thead>\n",
       "  <tbody>\n",
       "    <tr>\n",
       "      <th>0</th>\n",
       "      <td>0.766572</td>\n",
       "      <td>0.033982</td>\n",
       "      <td>0.033714</td>\n",
       "      <td>0.032013</td>\n",
       "      <td>0.031970</td>\n",
       "      <td>0.027843</td>\n",
       "      <td>0.024982</td>\n",
       "      <td>0.013986</td>\n",
       "      <td>0.014606</td>\n",
       "      <td>0.014061</td>\n",
       "      <td>0.014546</td>\n",
       "    </tr>\n",
       "    <tr>\n",
       "      <th>1</th>\n",
       "      <td>0.717804</td>\n",
       "      <td>0.033982</td>\n",
       "      <td>0.033714</td>\n",
       "      <td>0.032013</td>\n",
       "      <td>0.031970</td>\n",
       "      <td>0.027843</td>\n",
       "      <td>0.024982</td>\n",
       "      <td>0.013986</td>\n",
       "      <td>0.014606</td>\n",
       "      <td>0.014061</td>\n",
       "      <td>0.014546</td>\n",
       "    </tr>\n",
       "    <tr>\n",
       "      <th>2</th>\n",
       "      <td>0.859536</td>\n",
       "      <td>0.026502</td>\n",
       "      <td>0.026912</td>\n",
       "      <td>0.025114</td>\n",
       "      <td>0.025549</td>\n",
       "      <td>0.021589</td>\n",
       "      <td>0.020254</td>\n",
       "      <td>0.011279</td>\n",
       "      <td>0.011378</td>\n",
       "      <td>0.011042</td>\n",
       "      <td>0.011603</td>\n",
       "    </tr>\n",
       "    <tr>\n",
       "      <th>3</th>\n",
       "      <td>0.777240</td>\n",
       "      <td>0.027229</td>\n",
       "      <td>0.027591</td>\n",
       "      <td>0.025464</td>\n",
       "      <td>0.024831</td>\n",
       "      <td>0.021866</td>\n",
       "      <td>0.020672</td>\n",
       "      <td>0.012735</td>\n",
       "      <td>0.012505</td>\n",
       "      <td>0.012746</td>\n",
       "      <td>0.012870</td>\n",
       "    </tr>\n",
       "    <tr>\n",
       "      <th>4</th>\n",
       "      <td>0.649224</td>\n",
       "      <td>0.031175</td>\n",
       "      <td>0.031153</td>\n",
       "      <td>0.030272</td>\n",
       "      <td>0.029274</td>\n",
       "      <td>0.025335</td>\n",
       "      <td>0.023088</td>\n",
       "      <td>0.010361</td>\n",
       "      <td>0.011387</td>\n",
       "      <td>0.011305</td>\n",
       "      <td>0.011338</td>\n",
       "    </tr>\n",
       "  </tbody>\n",
       "</table>\n",
       "</div>"
      ],
      "text/plain": [
       "    depth_m  b59_ang201  b60_ang201  b61_ang201  b62_ang201  b65_ang201  \\\n",
       "0  0.766572    0.033982    0.033714    0.032013    0.031970    0.027843   \n",
       "1  0.717804    0.033982    0.033714    0.032013    0.031970    0.027843   \n",
       "2  0.859536    0.026502    0.026912    0.025114    0.025549    0.021589   \n",
       "3  0.777240    0.027229    0.027591    0.025464    0.024831    0.021866   \n",
       "4  0.649224    0.031175    0.031153    0.030272    0.029274    0.025335   \n",
       "\n",
       "   b67_ang201  b73_ang201  b74_ang201  b76_ang201  b78_ang201  \n",
       "0    0.024982    0.013986    0.014606    0.014061    0.014546  \n",
       "1    0.024982    0.013986    0.014606    0.014061    0.014546  \n",
       "2    0.020254    0.011279    0.011378    0.011042    0.011603  \n",
       "3    0.020672    0.012735    0.012505    0.012746    0.012870  \n",
       "4    0.023088    0.010361    0.011387    0.011305    0.011338  "
      ]
     },
     "execution_count": 5,
     "metadata": {},
     "output_type": "execute_result"
    }
   ],
   "source": [
    "df_pandas.head(5)"
   ]
  },
  {
   "cell_type": "code",
   "execution_count": 6,
   "metadata": {},
   "outputs": [],
   "source": [
    "training_predictors = df_pandas['depth_m']\n",
    "covariates = df_pandas.drop(['depth_m'], axis=1)"
   ]
  },
  {
   "cell_type": "code",
   "execution_count": 7,
   "metadata": {},
   "outputs": [
    {
     "data": {
      "text/plain": [
       "count    5243.000000\n",
       "mean        1.373884\n",
       "std         0.429527\n",
       "min         0.470408\n",
       "25%         1.099565\n",
       "50%         1.475230\n",
       "75%         1.743460\n",
       "max         2.097020\n",
       "Name: depth_m, dtype: float64"
      ]
     },
     "execution_count": 7,
     "metadata": {},
     "output_type": "execute_result"
    }
   ],
   "source": [
    "training_predictors.describe()"
   ]
  },
  {
   "cell_type": "code",
   "execution_count": 8,
   "metadata": {},
   "outputs": [
    {
     "name": "stdout",
     "output_type": "stream",
     "text": [
      "CPU times: user 27.9 ms, sys: 5.63 ms, total: 33.6 ms\n",
      "Wall time: 31 ms\n"
     ]
    },
    {
     "data": {
      "text/html": [
       "<div>\n",
       "<style scoped>\n",
       "    .dataframe tbody tr th:only-of-type {\n",
       "        vertical-align: middle;\n",
       "    }\n",
       "\n",
       "    .dataframe tbody tr th {\n",
       "        vertical-align: top;\n",
       "    }\n",
       "\n",
       "    .dataframe thead th {\n",
       "        text-align: right;\n",
       "    }\n",
       "</style>\n",
       "<table border=\"1\" class=\"dataframe\">\n",
       "  <thead>\n",
       "    <tr style=\"text-align: right;\">\n",
       "      <th></th>\n",
       "      <th>b59_ang201</th>\n",
       "      <th>b60_ang201</th>\n",
       "      <th>b61_ang201</th>\n",
       "      <th>b62_ang201</th>\n",
       "      <th>b65_ang201</th>\n",
       "      <th>b67_ang201</th>\n",
       "      <th>b73_ang201</th>\n",
       "      <th>b74_ang201</th>\n",
       "      <th>b76_ang201</th>\n",
       "      <th>b78_ang201</th>\n",
       "    </tr>\n",
       "  </thead>\n",
       "  <tbody>\n",
       "    <tr>\n",
       "      <th>count</th>\n",
       "      <td>5243.000000</td>\n",
       "      <td>5243.000000</td>\n",
       "      <td>5243.000000</td>\n",
       "      <td>5243.000000</td>\n",
       "      <td>5243.000000</td>\n",
       "      <td>5243.000000</td>\n",
       "      <td>5243.000000</td>\n",
       "      <td>5243.000000</td>\n",
       "      <td>5243.000000</td>\n",
       "      <td>5243.000000</td>\n",
       "    </tr>\n",
       "    <tr>\n",
       "      <th>mean</th>\n",
       "      <td>0.031550</td>\n",
       "      <td>0.031185</td>\n",
       "      <td>0.029731</td>\n",
       "      <td>0.029375</td>\n",
       "      <td>0.026706</td>\n",
       "      <td>0.024247</td>\n",
       "      <td>0.013804</td>\n",
       "      <td>0.014180</td>\n",
       "      <td>0.014116</td>\n",
       "      <td>0.014009</td>\n",
       "    </tr>\n",
       "    <tr>\n",
       "      <th>std</th>\n",
       "      <td>0.004561</td>\n",
       "      <td>0.004575</td>\n",
       "      <td>0.004461</td>\n",
       "      <td>0.004481</td>\n",
       "      <td>0.004184</td>\n",
       "      <td>0.004098</td>\n",
       "      <td>0.003248</td>\n",
       "      <td>0.003330</td>\n",
       "      <td>0.003392</td>\n",
       "      <td>0.003391</td>\n",
       "    </tr>\n",
       "    <tr>\n",
       "      <th>min</th>\n",
       "      <td>0.022300</td>\n",
       "      <td>0.022247</td>\n",
       "      <td>0.021359</td>\n",
       "      <td>0.020706</td>\n",
       "      <td>0.017501</td>\n",
       "      <td>0.015925</td>\n",
       "      <td>0.004294</td>\n",
       "      <td>0.004750</td>\n",
       "      <td>0.004613</td>\n",
       "      <td>0.003249</td>\n",
       "    </tr>\n",
       "    <tr>\n",
       "      <th>25%</th>\n",
       "      <td>0.028299</td>\n",
       "      <td>0.027867</td>\n",
       "      <td>0.026529</td>\n",
       "      <td>0.026120</td>\n",
       "      <td>0.023692</td>\n",
       "      <td>0.021381</td>\n",
       "      <td>0.012834</td>\n",
       "      <td>0.013126</td>\n",
       "      <td>0.013113</td>\n",
       "      <td>0.013022</td>\n",
       "    </tr>\n",
       "    <tr>\n",
       "      <th>50%</th>\n",
       "      <td>0.030487</td>\n",
       "      <td>0.030170</td>\n",
       "      <td>0.028726</td>\n",
       "      <td>0.028313</td>\n",
       "      <td>0.025637</td>\n",
       "      <td>0.023053</td>\n",
       "      <td>0.013932</td>\n",
       "      <td>0.014245</td>\n",
       "      <td>0.014120</td>\n",
       "      <td>0.013994</td>\n",
       "    </tr>\n",
       "    <tr>\n",
       "      <th>75%</th>\n",
       "      <td>0.033626</td>\n",
       "      <td>0.033244</td>\n",
       "      <td>0.031814</td>\n",
       "      <td>0.031538</td>\n",
       "      <td>0.028830</td>\n",
       "      <td>0.026363</td>\n",
       "      <td>0.015050</td>\n",
       "      <td>0.015408</td>\n",
       "      <td>0.015316</td>\n",
       "      <td>0.015153</td>\n",
       "    </tr>\n",
       "    <tr>\n",
       "      <th>max</th>\n",
       "      <td>0.051969</td>\n",
       "      <td>0.051937</td>\n",
       "      <td>0.052641</td>\n",
       "      <td>0.053870</td>\n",
       "      <td>0.066151</td>\n",
       "      <td>0.079642</td>\n",
       "      <td>0.105788</td>\n",
       "      <td>0.107176</td>\n",
       "      <td>0.112849</td>\n",
       "      <td>0.115969</td>\n",
       "    </tr>\n",
       "  </tbody>\n",
       "</table>\n",
       "</div>"
      ],
      "text/plain": [
       "        b59_ang201   b60_ang201   b61_ang201   b62_ang201   b65_ang201  \\\n",
       "count  5243.000000  5243.000000  5243.000000  5243.000000  5243.000000   \n",
       "mean      0.031550     0.031185     0.029731     0.029375     0.026706   \n",
       "std       0.004561     0.004575     0.004461     0.004481     0.004184   \n",
       "min       0.022300     0.022247     0.021359     0.020706     0.017501   \n",
       "25%       0.028299     0.027867     0.026529     0.026120     0.023692   \n",
       "50%       0.030487     0.030170     0.028726     0.028313     0.025637   \n",
       "75%       0.033626     0.033244     0.031814     0.031538     0.028830   \n",
       "max       0.051969     0.051937     0.052641     0.053870     0.066151   \n",
       "\n",
       "        b67_ang201   b73_ang201   b74_ang201   b76_ang201   b78_ang201  \n",
       "count  5243.000000  5243.000000  5243.000000  5243.000000  5243.000000  \n",
       "mean      0.024247     0.013804     0.014180     0.014116     0.014009  \n",
       "std       0.004098     0.003248     0.003330     0.003392     0.003391  \n",
       "min       0.015925     0.004294     0.004750     0.004613     0.003249  \n",
       "25%       0.021381     0.012834     0.013126     0.013113     0.013022  \n",
       "50%       0.023053     0.013932     0.014245     0.014120     0.013994  \n",
       "75%       0.026363     0.015050     0.015408     0.015316     0.015153  \n",
       "max       0.079642     0.105788     0.107176     0.112849     0.115969  "
      ]
     },
     "execution_count": 8,
     "metadata": {},
     "output_type": "execute_result"
    }
   ],
   "source": [
    "%%time\n",
    "\n",
    "covariates.describe()"
   ]
  },
  {
   "cell_type": "code",
   "execution_count": 9,
   "metadata": {},
   "outputs": [],
   "source": [
    "X_train, X_test, y_train, y_test = train_test_split(covariates, \n",
    "                                                    training_predictors, \n",
    "                                                    shuffle=True, \n",
    "                                                    train_size = 0.8)"
   ]
  },
  {
   "cell_type": "code",
   "execution_count": 10,
   "metadata": {},
   "outputs": [
    {
     "name": "stdout",
     "output_type": "stream",
     "text": [
      "Training features shape:  (4194, 10)\n",
      "Training labels shape:  (4194,)\n",
      "Testing features shape:  (1049, 10)\n",
      "Testing labels shape:  (1049,)\n"
     ]
    }
   ],
   "source": [
    "print('Training features shape: ', X_train.shape)\n",
    "print('Training labels shape: ', y_train.shape)\n",
    "print('Testing features shape: ', X_test.shape)\n",
    "print('Testing labels shape: ', y_test.shape)"
   ]
  },
  {
   "cell_type": "code",
   "execution_count": 12,
   "metadata": {},
   "outputs": [
    {
     "name": "stdout",
     "output_type": "stream",
     "text": [
      "CPU times: user 30.5 s, sys: 191 ms, total: 30.7 s\n",
      "Wall time: 30.7 s\n"
     ]
    },
    {
     "data": {
      "text/plain": [
       "RandomForestRegressor(max_depth=50, n_estimators=1000, random_state=42)"
      ]
     },
     "execution_count": 12,
     "metadata": {},
     "output_type": "execute_result"
    }
   ],
   "source": [
    "%%time\n",
    "\n",
    "sk_model = rfr(n_estimators=1000,\n",
    "                  max_depth = 50,\n",
    "                  max_features = 'auto',\n",
    "                  random_state = 42)\n",
    "\n",
    "sk_model.fit(X_train, y_train)"
   ]
  },
  {
   "cell_type": "code",
   "execution_count": 13,
   "metadata": {},
   "outputs": [
    {
     "name": "stdout",
     "output_type": "stream",
     "text": [
      "CPU times: user 339 ms, sys: 59.9 ms, total: 399 ms\n",
      "Wall time: 396 ms\n"
     ]
    }
   ],
   "source": [
    "%%time\n",
    "\n",
    "predictions = sk_model.predict(X_test)\n",
    "\n",
    "mae_cuml_model = mean_squared_error(y_test, predictions)\n",
    "r2_cuml_model = r2_score(y_test, predictions)"
   ]
  },
  {
   "cell_type": "code",
   "execution_count": 16,
   "metadata": {},
   "outputs": [],
   "source": [
    "filename = 'Models/sklearn_aviris_random_forest.sav'\n",
    "# Save the trained model into a file\n",
    "joblib.dump(sk_model, open(filename, 'wb'))\n",
    "# Delete the previous model to ensure there is no leakage of pointers. \n",
    "del sk_model\n",
    "# Load the saved pre-trained model from a file\n",
    "saved_sk_model = joblib.load(open(filename, 'rb'))"
   ]
  },
  {
   "cell_type": "code",
   "execution_count": 17,
   "metadata": {},
   "outputs": [
    {
     "name": "stdout",
     "output_type": "stream",
     "text": [
      "CPU times: user 331 ms, sys: 1.21 ms, total: 332 ms\n",
      "Wall time: 331 ms\n"
     ]
    }
   ],
   "source": [
    "%%time \n",
    "\n",
    "prediction_post_save = saved_sk_model.predict(X_test)\n",
    "\n",
    "mae_post_save = mean_squared_error(y_test, prediction_post_save)\n",
    "r2_post_save = r2_score(y_test, prediction_post_save)"
   ]
  },
  {
   "cell_type": "code",
   "execution_count": 18,
   "metadata": {},
   "outputs": [
    {
     "name": "stdout",
     "output_type": "stream",
     "text": [
      "SK mean absolute error of RF model before saving: 0.03934550635187194\n",
      "SK mean absolute error of RF model after saving: 0.03934550635187194\n",
      "SK r^2 score of RF model before saving: 0.7884370616906037\n",
      "SK r^2 score of RF model after saving: 0.7884370616906037\n"
     ]
    }
   ],
   "source": [
    "print('SK mean absolute error of RF model before saving: %s' % mae_cuml_model)\n",
    "print('SK mean absolute error of RF model after saving: %s' % mae_post_save)\n",
    "\n",
    "print('SK r^2 score of RF model before saving: %s' % r2_cuml_model)\n",
    "print('SK r^2 score of RF model after saving: %s' % r2_post_save)"
   ]
  },
  {
   "cell_type": "code",
   "execution_count": 20,
   "metadata": {},
   "outputs": [
    {
     "data": {
      "image/png": "[encoded data removed]",
      "text/plain": [
       "<Figure size 432x288 with 1 Axes>"
      ]
     },
     "metadata": {
      "needs_background": "light"
     },
     "output_type": "display_data"
    }
   ],
   "source": [
    "plt.scatter(y_test, predictions)\n",
    "plt.xlabel(\"Actual Depth: $Y_i$\")\n",
    "plt.ylabel(\"Predicted Depth: $\\hat{Y}_i$\")\n",
    "plt.title(\"Scikit RF Actual vs Predicted\")\n",
    "plt.show()"
   ]
  },
  {
   "cell_type": "code",
   "execution_count": 26,
   "metadata": {},
   "outputs": [
    {
     "name": "stdout",
     "output_type": "stream",
     "text": [
      "Variables: b67_ang201           Importance: 0.30912\n",
      "Variables: b76_ang201           Importance: 0.22535\n",
      "Variables: b78_ang201           Importance: 0.22071\n",
      "Variables: b73_ang201           Importance: 0.17846\n",
      "Variables: b59_ang201           Importance: 0.15169\n",
      "Variables: b60_ang201           Importance: 0.12208\n",
      "Variables: b65_ang201           Importance: 0.09009\n",
      "Variables: b74_ang201           Importance: 0.07951\n",
      "Variables: b61_ang201           Importance: 0.07601\n",
      "Variables: b62_ang201           Importance: 0.04997\n",
      "CPU times: user 13.5 s, sys: 107 ms, total: 13.6 s\n",
      "Wall time: 13.6 s\n"
     ]
    }
   ],
   "source": [
    "%%time\n",
    "\n",
    "perm_imp = permutation_importance(saved_sk_model, X_test, y_test)\n",
    "spectral_bands_list = list(covariates.columns)\n",
    "importances = perm_imp.importances_mean\n",
    "feature_importances = [(feature, (round(importance, 5))) for\n",
    "                      feature, importance in zip(spectral_bands_list, importances)]\n",
    "feature_importances = sorted(feature_importances, key = lambda x: x[1], reverse = True)\n",
    "_ = [print('Variables: {:20} Importance: {}'.format(*pair)) for pair in feature_importances]"
   ]
  },
  {
   "cell_type": "code",
   "execution_count": null,
   "metadata": {},
   "outputs": [],
   "source": []
  }
 ],
 "metadata": {
  "kernelspec": {
   "display_name": "Python [conda env:.conda-rapids-0.16]",
   "language": "python",
   "name": "conda-env-.conda-rapids-0.16-py"
  },
  "language_info": {
   "codemirror_mode": {
    "name": "ipython",
    "version": 3
   },
   "file_extension": ".py",
   "mimetype": "text/x-python",
   "name": "python",
   "nbconvert_exporter": "python",
   "pygments_lexer": "ipython3",
   "version": "3.7.8"
  }
 },
 "nbformat": 4,
 "nbformat_minor": 4
}
