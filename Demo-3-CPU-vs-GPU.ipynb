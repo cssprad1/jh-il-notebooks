{
 "cells": [
  {
   "cell_type": "markdown",
   "metadata": {},
   "source": [
    "# Introduction to cuMl Random Forest and cuDF DataFrames (a CPU vs GPU-based model comparison)\n",
    "\n",
    "RAPIDS is an open-source data analytics and machine learning acceleration platform which leverages Graphical Processing Units (GPUs) to accelerate computations. RAPIDS is based on Python, and mimics the APIs of popular data analytics and machine learning Python packages such as Pandas and Scikit-Learn. RAPIDS can scale from 1 to multi-GPU to multi-nodes. RAPIDS is particularly usefule because of it's end-end workflow - from data prep, to machine learning, to deep learning. \n",
    "\n",
    "In this notebook we will first discuss cuDF, the pandas-like data analytics and processing package. We will show how to import data from a csv to a GPU-based DataFrame. Then we will discuss and implement a simple Random Forest Classification model. We will train this Random Forest model from sample remote-sensing data. We will then save the Random Forest model and demonstrate how to load and reuse the model using [joblib](https://joblib.readthedocs.io/en/latest/) \n",
    "\n",
    "For additional information on RAPIDS cuDF, refer to the [cuDF docs](https://docs.rapids.ai/api/cudf/stable)\n",
    "\n",
    "For additional information on RAPIDS cuML's Random Forest model, see [cuML Random Forest Regressor](https://docs.rapids.ai/api/cuml/stable/api.html#random-forest)\n",
    "\n",
    "### What makes this demo different from Demo-1 is that we will be comparing CPU-based models vs GPU-based models."
   ]
  },
  {
   "cell_type": "code",
   "execution_count": 1,
   "metadata": {},
   "outputs": [
    {
     "name": "stdout",
     "output_type": "stream",
     "text": [
      "Mon Dec 14 10:43:06 2020       \n",
      "+-----------------------------------------------------------------------------+\n",
      "| NVIDIA-SMI 440.33.01    Driver Version: 440.33.01    CUDA Version: 10.2     |\n",
      "|-------------------------------+----------------------+----------------------+\n",
      "| GPU  Name        Persistence-M| Bus-Id        Disp.A | Volatile Uncorr. ECC |\n",
      "| Fan  Temp  Perf  Pwr:Usage/Cap|         Memory-Usage | GPU-Util  Compute M. |\n",
      "|===============================+======================+======================|\n",
      "|   0  Tesla V100-SXM2...  On   | 00000000:61:00.0 Off |                    0 |\n",
      "| N/A   37C    P0    39W / 300W |     11MiB / 16160MiB |      0%      Default |\n",
      "+-------------------------------+----------------------+----------------------+\n",
      "|   1  Tesla V100-SXM2...  On   | 00000000:62:00.0 Off |                    0 |\n",
      "| N/A   37C    P0    41W / 300W |     11MiB / 16160MiB |      0%      Default |\n",
      "+-------------------------------+----------------------+----------------------+\n",
      "|   2  Tesla V100-SXM2...  On   | 00000000:89:00.0 Off |                    0 |\n",
      "| N/A   37C    P0    39W / 300W |      0MiB / 16160MiB |      0%      Default |\n",
      "+-------------------------------+----------------------+----------------------+\n",
      "|   3  Tesla V100-SXM2...  On   | 00000000:8A:00.0 Off |                    0 |\n",
      "| N/A   36C    P0    39W / 300W |      0MiB / 16160MiB |      0%      Default |\n",
      "+-------------------------------+----------------------+----------------------+\n",
      "                                                                               \n",
      "+-----------------------------------------------------------------------------+\n",
      "| Processes:                                                       GPU Memory |\n",
      "|  GPU       PID   Type   Process name                             Usage      |\n",
      "|=============================================================================|\n",
      "|  No running processes found                                                 |\n",
      "+-----------------------------------------------------------------------------+\n"
     ]
    }
   ],
   "source": [
    "import cudf\n",
    "import cupy as cp\n",
    "import numpy as np\n",
    "\n",
    "from cuml.ensemble import RandomForestRegressor as curfr\n",
    "from cuml import train_test_split as tts_gpu\n",
    "\n",
    "import joblib\n",
    "import pandas as pd\n",
    "from sklearn.ensemble import RandomForestRegressor as skrfr\n",
    "from sklearn.metrics import mean_squared_error, r2_score\n",
    "from sklearn.model_selection import train_test_split as tts_cpu\n",
    "from sklearn.inspection import permutation_importance\n",
    "import matplotlib.pyplot as plt\n",
    "import random\n",
    "\n",
    "!nvidia-smi"
   ]
  },
  {
   "cell_type": "markdown",
   "metadata": {},
   "source": [
    "## Import Data\n",
    "\n",
    "In this demo, we have the option of using one of two datasets ('aviris_bands_extract_final.csv', 'train_validate_10_final.csv') from the \\'Data\\' folder. This data is a sample of bands used to train our model to predict lake depth from raster data. \n",
    "\n",
    "The datasets are different in the fact that 'aviris_bands_extract_final' samples 390 spectral bands, while 'train_validate_10_final.csv' samples only 10. You can switch the notebook to use one of the two. \n",
    "\n",
    "Notice how well the GPU model deals with large data speed-wise. \n",
    "\n",
    "Note: Be wary that the permutation cell block will be very slow on the large dataset due to us using a cpu-based function. \n",
    "\n",
    "Notice the timing difference between a CPU-based read with a shift to GPU memory and a direct read to GPU memory."
   ]
  },
  {
   "cell_type": "code",
   "execution_count": 2,
   "metadata": {},
   "outputs": [
    {
     "name": "stdout",
     "output_type": "stream",
     "text": [
      "CPU times: user 1.86 s, sys: 1.63 s, total: 3.49 s\n",
      "Wall time: 22.3 s\n"
     ]
    }
   ],
   "source": [
    "%%time\n",
    "\n",
    "df_pandas = pd.read_csv('Data/train_validate_10_final.csv').astype(np.float32) # A much smaller dataset\n",
    "#df_pandas = pd.read_csv('Data/aviris_bands_extract_final.csv').astype(np.float32) # Read the csv into a pandas DataFrame\n",
    "cudf_df = cudf.DataFrame.from_pandas(df_pandas).astype(np.float32) # Read the Pandas DF to GPU memory as a cuDF DataFrame\n"
   ]
  },
  {
   "cell_type": "markdown",
   "metadata": {},
   "source": [
    "Since we were creating two seperate examples of the same data, we can get rid of one the first example."
   ]
  },
  {
   "cell_type": "markdown",
   "metadata": {},
   "source": [
    "Now that we have the dataset loaded into GPU memory. Let's poke around at our data using cuDF's handy functions. "
   ]
  },
  {
   "cell_type": "code",
   "execution_count": 3,
   "metadata": {},
   "outputs": [
    {
     "data": {
      "text/html": [
       "<div>\n",
       "<style scoped>\n",
       "    .dataframe tbody tr th:only-of-type {\n",
       "        vertical-align: middle;\n",
       "    }\n",
       "\n",
       "    .dataframe tbody tr th {\n",
       "        vertical-align: top;\n",
       "    }\n",
       "\n",
       "    .dataframe thead th {\n",
       "        text-align: right;\n",
       "    }\n",
       "</style>\n",
       "<table border=\"1\" class=\"dataframe\">\n",
       "  <thead>\n",
       "    <tr style=\"text-align: right;\">\n",
       "      <th></th>\n",
       "      <th>depth_m</th>\n",
       "      <th>b59_ang201</th>\n",
       "      <th>b60_ang201</th>\n",
       "      <th>b61_ang201</th>\n",
       "      <th>b62_ang201</th>\n",
       "      <th>b65_ang201</th>\n",
       "      <th>b67_ang201</th>\n",
       "      <th>b73_ang201</th>\n",
       "      <th>b74_ang201</th>\n",
       "      <th>b76_ang201</th>\n",
       "      <th>b78_ang201</th>\n",
       "    </tr>\n",
       "  </thead>\n",
       "  <tbody>\n",
       "    <tr>\n",
       "      <th>0</th>\n",
       "      <td>0.766572</td>\n",
       "      <td>0.033982</td>\n",
       "      <td>0.033714</td>\n",
       "      <td>0.032013</td>\n",
       "      <td>0.031970</td>\n",
       "      <td>0.027843</td>\n",
       "      <td>0.024982</td>\n",
       "      <td>0.013986</td>\n",
       "      <td>0.014606</td>\n",
       "      <td>0.014061</td>\n",
       "      <td>0.014546</td>\n",
       "    </tr>\n",
       "    <tr>\n",
       "      <th>1</th>\n",
       "      <td>0.717804</td>\n",
       "      <td>0.033982</td>\n",
       "      <td>0.033714</td>\n",
       "      <td>0.032013</td>\n",
       "      <td>0.031970</td>\n",
       "      <td>0.027843</td>\n",
       "      <td>0.024982</td>\n",
       "      <td>0.013986</td>\n",
       "      <td>0.014606</td>\n",
       "      <td>0.014061</td>\n",
       "      <td>0.014546</td>\n",
       "    </tr>\n",
       "    <tr>\n",
       "      <th>2</th>\n",
       "      <td>0.859536</td>\n",
       "      <td>0.026502</td>\n",
       "      <td>0.026912</td>\n",
       "      <td>0.025114</td>\n",
       "      <td>0.025549</td>\n",
       "      <td>0.021589</td>\n",
       "      <td>0.020254</td>\n",
       "      <td>0.011278</td>\n",
       "      <td>0.011378</td>\n",
       "      <td>0.011042</td>\n",
       "      <td>0.011603</td>\n",
       "    </tr>\n",
       "    <tr>\n",
       "      <th>3</th>\n",
       "      <td>0.777240</td>\n",
       "      <td>0.027229</td>\n",
       "      <td>0.027591</td>\n",
       "      <td>0.025463</td>\n",
       "      <td>0.024831</td>\n",
       "      <td>0.021866</td>\n",
       "      <td>0.020672</td>\n",
       "      <td>0.012735</td>\n",
       "      <td>0.012505</td>\n",
       "      <td>0.012746</td>\n",
       "      <td>0.012870</td>\n",
       "    </tr>\n",
       "    <tr>\n",
       "      <th>4</th>\n",
       "      <td>0.649224</td>\n",
       "      <td>0.031175</td>\n",
       "      <td>0.031153</td>\n",
       "      <td>0.030272</td>\n",
       "      <td>0.029274</td>\n",
       "      <td>0.025335</td>\n",
       "      <td>0.023088</td>\n",
       "      <td>0.010361</td>\n",
       "      <td>0.011387</td>\n",
       "      <td>0.011305</td>\n",
       "      <td>0.011338</td>\n",
       "    </tr>\n",
       "  </tbody>\n",
       "</table>\n",
       "</div>"
      ],
      "text/plain": [
       "    depth_m  b59_ang201  b60_ang201  b61_ang201  b62_ang201  b65_ang201  \\\n",
       "0  0.766572    0.033982    0.033714    0.032013    0.031970    0.027843   \n",
       "1  0.717804    0.033982    0.033714    0.032013    0.031970    0.027843   \n",
       "2  0.859536    0.026502    0.026912    0.025114    0.025549    0.021589   \n",
       "3  0.777240    0.027229    0.027591    0.025463    0.024831    0.021866   \n",
       "4  0.649224    0.031175    0.031153    0.030272    0.029274    0.025335   \n",
       "\n",
       "   b67_ang201  b73_ang201  b74_ang201  b76_ang201  b78_ang201  \n",
       "0    0.024982    0.013986    0.014606    0.014061    0.014546  \n",
       "1    0.024982    0.013986    0.014606    0.014061    0.014546  \n",
       "2    0.020254    0.011278    0.011378    0.011042    0.011603  \n",
       "3    0.020672    0.012735    0.012505    0.012746    0.012870  \n",
       "4    0.023088    0.010361    0.011387    0.011305    0.011338  "
      ]
     },
     "execution_count": 3,
     "metadata": {},
     "output_type": "execute_result"
    }
   ],
   "source": [
    "cudf_df.head(5)"
   ]
  },
  {
   "cell_type": "markdown",
   "metadata": {},
   "source": [
    "Looking at the above sample. We can see that we have the depth_m which will act as our training predictor. We also have 390 different AVIRIS bands to work with.\n",
    "\n",
    "Since we're going to want to train with this data, we need to split the data up from the covariates (AVIRIS bands) and the training predictors (depth_m). We can do this very easily using the Pandas-like API."
   ]
  },
  {
   "cell_type": "code",
   "execution_count": 4,
   "metadata": {},
   "outputs": [],
   "source": [
    "cpu_training_predictors = df_pandas['depth_m']\n",
    "cpu_covariates = df_pandas.drop(['depth_m'], axis=1)\n",
    "\n",
    "gpu_training_predictors = cudf_df['depth_m']\n",
    "gpu_covariates = cudf_df.drop(['depth_m'], axis=1)"
   ]
  },
  {
   "cell_type": "markdown",
   "metadata": {},
   "source": [
    "That was simple. Now let's look at what we can do with some more cuDF functions. "
   ]
  },
  {
   "cell_type": "code",
   "execution_count": 5,
   "metadata": {},
   "outputs": [
    {
     "data": {
      "text/plain": [
       "count    5243.000000\n",
       "mean        1.373884\n",
       "std         0.429527\n",
       "min         0.470408\n",
       "25%         1.099565\n",
       "50%         1.475230\n",
       "75%         1.743460\n",
       "max         2.097020\n",
       "Name: depth_m, dtype: float64"
      ]
     },
     "execution_count": 5,
     "metadata": {},
     "output_type": "execute_result"
    }
   ],
   "source": [
    "gpu_training_predictors.describe()"
   ]
  },
  {
   "cell_type": "code",
   "execution_count": 6,
   "metadata": {},
   "outputs": [
    {
     "name": "stdout",
     "output_type": "stream",
     "text": [
      "CPU times: user 31.2 ms, sys: 4.13 ms, total: 35.4 ms\n",
      "Wall time: 32.6 ms\n"
     ]
    },
    {
     "data": {
      "text/html": [
       "<div>\n",
       "<style scoped>\n",
       "    .dataframe tbody tr th:only-of-type {\n",
       "        vertical-align: middle;\n",
       "    }\n",
       "\n",
       "    .dataframe tbody tr th {\n",
       "        vertical-align: top;\n",
       "    }\n",
       "\n",
       "    .dataframe thead th {\n",
       "        text-align: right;\n",
       "    }\n",
       "</style>\n",
       "<table border=\"1\" class=\"dataframe\">\n",
       "  <thead>\n",
       "    <tr style=\"text-align: right;\">\n",
       "      <th></th>\n",
       "      <th>b59_ang201</th>\n",
       "      <th>b60_ang201</th>\n",
       "      <th>b61_ang201</th>\n",
       "      <th>b62_ang201</th>\n",
       "      <th>b65_ang201</th>\n",
       "      <th>b67_ang201</th>\n",
       "      <th>b73_ang201</th>\n",
       "      <th>b74_ang201</th>\n",
       "      <th>b76_ang201</th>\n",
       "      <th>b78_ang201</th>\n",
       "    </tr>\n",
       "  </thead>\n",
       "  <tbody>\n",
       "    <tr>\n",
       "      <th>count</th>\n",
       "      <td>5243.000000</td>\n",
       "      <td>5243.000000</td>\n",
       "      <td>5243.000000</td>\n",
       "      <td>5243.000000</td>\n",
       "      <td>5243.000000</td>\n",
       "      <td>5243.000000</td>\n",
       "      <td>5243.000000</td>\n",
       "      <td>5243.000000</td>\n",
       "      <td>5243.000000</td>\n",
       "      <td>5243.000000</td>\n",
       "    </tr>\n",
       "    <tr>\n",
       "      <th>mean</th>\n",
       "      <td>0.031550</td>\n",
       "      <td>0.031185</td>\n",
       "      <td>0.029731</td>\n",
       "      <td>0.029375</td>\n",
       "      <td>0.026706</td>\n",
       "      <td>0.024247</td>\n",
       "      <td>0.013804</td>\n",
       "      <td>0.014180</td>\n",
       "      <td>0.014116</td>\n",
       "      <td>0.014009</td>\n",
       "    </tr>\n",
       "    <tr>\n",
       "      <th>std</th>\n",
       "      <td>0.004561</td>\n",
       "      <td>0.004575</td>\n",
       "      <td>0.004461</td>\n",
       "      <td>0.004481</td>\n",
       "      <td>0.004184</td>\n",
       "      <td>0.004098</td>\n",
       "      <td>0.003248</td>\n",
       "      <td>0.003330</td>\n",
       "      <td>0.003392</td>\n",
       "      <td>0.003391</td>\n",
       "    </tr>\n",
       "    <tr>\n",
       "      <th>min</th>\n",
       "      <td>0.022300</td>\n",
       "      <td>0.022247</td>\n",
       "      <td>0.021359</td>\n",
       "      <td>0.020706</td>\n",
       "      <td>0.017501</td>\n",
       "      <td>0.015925</td>\n",
       "      <td>0.004294</td>\n",
       "      <td>0.004750</td>\n",
       "      <td>0.004613</td>\n",
       "      <td>0.003249</td>\n",
       "    </tr>\n",
       "    <tr>\n",
       "      <th>25%</th>\n",
       "      <td>0.028299</td>\n",
       "      <td>0.027867</td>\n",
       "      <td>0.026529</td>\n",
       "      <td>0.026120</td>\n",
       "      <td>0.023692</td>\n",
       "      <td>0.021381</td>\n",
       "      <td>0.012834</td>\n",
       "      <td>0.013126</td>\n",
       "      <td>0.013113</td>\n",
       "      <td>0.013022</td>\n",
       "    </tr>\n",
       "    <tr>\n",
       "      <th>50%</th>\n",
       "      <td>0.030487</td>\n",
       "      <td>0.030170</td>\n",
       "      <td>0.028726</td>\n",
       "      <td>0.028313</td>\n",
       "      <td>0.025637</td>\n",
       "      <td>0.023053</td>\n",
       "      <td>0.013932</td>\n",
       "      <td>0.014245</td>\n",
       "      <td>0.014120</td>\n",
       "      <td>0.013994</td>\n",
       "    </tr>\n",
       "    <tr>\n",
       "      <th>75%</th>\n",
       "      <td>0.033626</td>\n",
       "      <td>0.033244</td>\n",
       "      <td>0.031814</td>\n",
       "      <td>0.031538</td>\n",
       "      <td>0.028830</td>\n",
       "      <td>0.026363</td>\n",
       "      <td>0.015050</td>\n",
       "      <td>0.015408</td>\n",
       "      <td>0.015316</td>\n",
       "      <td>0.015153</td>\n",
       "    </tr>\n",
       "    <tr>\n",
       "      <th>max</th>\n",
       "      <td>0.051969</td>\n",
       "      <td>0.051937</td>\n",
       "      <td>0.052641</td>\n",
       "      <td>0.053870</td>\n",
       "      <td>0.066151</td>\n",
       "      <td>0.079642</td>\n",
       "      <td>0.105788</td>\n",
       "      <td>0.107176</td>\n",
       "      <td>0.112849</td>\n",
       "      <td>0.115969</td>\n",
       "    </tr>\n",
       "  </tbody>\n",
       "</table>\n",
       "</div>"
      ],
      "text/plain": [
       "        b59_ang201   b60_ang201   b61_ang201   b62_ang201   b65_ang201  \\\n",
       "count  5243.000000  5243.000000  5243.000000  5243.000000  5243.000000   \n",
       "mean      0.031550     0.031185     0.029731     0.029375     0.026706   \n",
       "std       0.004561     0.004575     0.004461     0.004481     0.004184   \n",
       "min       0.022300     0.022247     0.021359     0.020706     0.017501   \n",
       "25%       0.028299     0.027867     0.026529     0.026120     0.023692   \n",
       "50%       0.030487     0.030170     0.028726     0.028313     0.025637   \n",
       "75%       0.033626     0.033244     0.031814     0.031538     0.028830   \n",
       "max       0.051969     0.051937     0.052641     0.053870     0.066151   \n",
       "\n",
       "        b67_ang201   b73_ang201   b74_ang201   b76_ang201   b78_ang201  \n",
       "count  5243.000000  5243.000000  5243.000000  5243.000000  5243.000000  \n",
       "mean      0.024247     0.013804     0.014180     0.014116     0.014009  \n",
       "std       0.004098     0.003248     0.003330     0.003392     0.003391  \n",
       "min       0.015925     0.004294     0.004750     0.004613     0.003249  \n",
       "25%       0.021381     0.012834     0.013126     0.013113     0.013022  \n",
       "50%       0.023053     0.013932     0.014245     0.014120     0.013994  \n",
       "75%       0.026363     0.015050     0.015408     0.015316     0.015153  \n",
       "max       0.079642     0.105788     0.107176     0.112849     0.115969  "
      ]
     },
     "execution_count": 6,
     "metadata": {},
     "output_type": "execute_result"
    }
   ],
   "source": [
    "%%time\n",
    "\n",
    "cpu_covariates.describe()"
   ]
  },
  {
   "cell_type": "code",
   "execution_count": 7,
   "metadata": {},
   "outputs": [
    {
     "name": "stdout",
     "output_type": "stream",
     "text": [
      "CPU times: user 288 ms, sys: 41.9 ms, total: 330 ms\n",
      "Wall time: 2.18 s\n"
     ]
    },
    {
     "data": {
      "text/html": [
       "<div>\n",
       "<style scoped>\n",
       "    .dataframe tbody tr th:only-of-type {\n",
       "        vertical-align: middle;\n",
       "    }\n",
       "\n",
       "    .dataframe tbody tr th {\n",
       "        vertical-align: top;\n",
       "    }\n",
       "\n",
       "    .dataframe thead th {\n",
       "        text-align: right;\n",
       "    }\n",
       "</style>\n",
       "<table border=\"1\" class=\"dataframe\">\n",
       "  <thead>\n",
       "    <tr style=\"text-align: right;\">\n",
       "      <th></th>\n",
       "      <th>b59_ang201</th>\n",
       "      <th>b60_ang201</th>\n",
       "      <th>b61_ang201</th>\n",
       "      <th>b62_ang201</th>\n",
       "      <th>b65_ang201</th>\n",
       "      <th>b67_ang201</th>\n",
       "      <th>b73_ang201</th>\n",
       "      <th>b74_ang201</th>\n",
       "      <th>b76_ang201</th>\n",
       "      <th>b78_ang201</th>\n",
       "    </tr>\n",
       "  </thead>\n",
       "  <tbody>\n",
       "    <tr>\n",
       "      <th>count</th>\n",
       "      <td>5243.000000</td>\n",
       "      <td>5243.000000</td>\n",
       "      <td>5243.000000</td>\n",
       "      <td>5243.000000</td>\n",
       "      <td>5243.000000</td>\n",
       "      <td>5243.000000</td>\n",
       "      <td>5243.000000</td>\n",
       "      <td>5243.000000</td>\n",
       "      <td>5243.000000</td>\n",
       "      <td>5243.000000</td>\n",
       "    </tr>\n",
       "    <tr>\n",
       "      <th>mean</th>\n",
       "      <td>0.031550</td>\n",
       "      <td>0.031185</td>\n",
       "      <td>0.029731</td>\n",
       "      <td>0.029375</td>\n",
       "      <td>0.026706</td>\n",
       "      <td>0.024247</td>\n",
       "      <td>0.013804</td>\n",
       "      <td>0.014180</td>\n",
       "      <td>0.014116</td>\n",
       "      <td>0.014009</td>\n",
       "    </tr>\n",
       "    <tr>\n",
       "      <th>std</th>\n",
       "      <td>0.004561</td>\n",
       "      <td>0.004575</td>\n",
       "      <td>0.004461</td>\n",
       "      <td>0.004481</td>\n",
       "      <td>0.004184</td>\n",
       "      <td>0.004098</td>\n",
       "      <td>0.003248</td>\n",
       "      <td>0.003330</td>\n",
       "      <td>0.003392</td>\n",
       "      <td>0.003391</td>\n",
       "    </tr>\n",
       "    <tr>\n",
       "      <th>min</th>\n",
       "      <td>0.022300</td>\n",
       "      <td>0.022247</td>\n",
       "      <td>0.021359</td>\n",
       "      <td>0.020706</td>\n",
       "      <td>0.017501</td>\n",
       "      <td>0.015925</td>\n",
       "      <td>0.004294</td>\n",
       "      <td>0.004750</td>\n",
       "      <td>0.004613</td>\n",
       "      <td>0.003249</td>\n",
       "    </tr>\n",
       "    <tr>\n",
       "      <th>25%</th>\n",
       "      <td>0.028299</td>\n",
       "      <td>0.027867</td>\n",
       "      <td>0.026529</td>\n",
       "      <td>0.026120</td>\n",
       "      <td>0.023692</td>\n",
       "      <td>0.021381</td>\n",
       "      <td>0.012834</td>\n",
       "      <td>0.013126</td>\n",
       "      <td>0.013113</td>\n",
       "      <td>0.013022</td>\n",
       "    </tr>\n",
       "    <tr>\n",
       "      <th>50%</th>\n",
       "      <td>0.030487</td>\n",
       "      <td>0.030170</td>\n",
       "      <td>0.028726</td>\n",
       "      <td>0.028313</td>\n",
       "      <td>0.025637</td>\n",
       "      <td>0.023053</td>\n",
       "      <td>0.013932</td>\n",
       "      <td>0.014245</td>\n",
       "      <td>0.014120</td>\n",
       "      <td>0.013994</td>\n",
       "    </tr>\n",
       "    <tr>\n",
       "      <th>75%</th>\n",
       "      <td>0.033626</td>\n",
       "      <td>0.033244</td>\n",
       "      <td>0.031814</td>\n",
       "      <td>0.031538</td>\n",
       "      <td>0.028830</td>\n",
       "      <td>0.026363</td>\n",
       "      <td>0.015050</td>\n",
       "      <td>0.015408</td>\n",
       "      <td>0.015316</td>\n",
       "      <td>0.015153</td>\n",
       "    </tr>\n",
       "    <tr>\n",
       "      <th>max</th>\n",
       "      <td>0.051969</td>\n",
       "      <td>0.051937</td>\n",
       "      <td>0.052641</td>\n",
       "      <td>0.053870</td>\n",
       "      <td>0.066151</td>\n",
       "      <td>0.079642</td>\n",
       "      <td>0.105788</td>\n",
       "      <td>0.107176</td>\n",
       "      <td>0.112849</td>\n",
       "      <td>0.115969</td>\n",
       "    </tr>\n",
       "  </tbody>\n",
       "</table>\n",
       "</div>"
      ],
      "text/plain": [
       "        b59_ang201   b60_ang201   b61_ang201   b62_ang201   b65_ang201  \\\n",
       "count  5243.000000  5243.000000  5243.000000  5243.000000  5243.000000   \n",
       "mean      0.031550     0.031185     0.029731     0.029375     0.026706   \n",
       "std       0.004561     0.004575     0.004461     0.004481     0.004184   \n",
       "min       0.022300     0.022247     0.021359     0.020706     0.017501   \n",
       "25%       0.028299     0.027867     0.026529     0.026120     0.023692   \n",
       "50%       0.030487     0.030170     0.028726     0.028313     0.025637   \n",
       "75%       0.033626     0.033244     0.031814     0.031538     0.028830   \n",
       "max       0.051969     0.051937     0.052641     0.053870     0.066151   \n",
       "\n",
       "        b67_ang201   b73_ang201   b74_ang201   b76_ang201   b78_ang201  \n",
       "count  5243.000000  5243.000000  5243.000000  5243.000000  5243.000000  \n",
       "mean      0.024247     0.013804     0.014180     0.014116     0.014009  \n",
       "std       0.004098     0.003248     0.003330     0.003392     0.003391  \n",
       "min       0.015925     0.004294     0.004750     0.004613     0.003249  \n",
       "25%       0.021381     0.012834     0.013126     0.013113     0.013022  \n",
       "50%       0.023053     0.013932     0.014245     0.014120     0.013994  \n",
       "75%       0.026363     0.015050     0.015408     0.015316     0.015153  \n",
       "max       0.079642     0.105788     0.107176     0.112849     0.115969  "
      ]
     },
     "execution_count": 7,
     "metadata": {},
     "output_type": "execute_result"
    }
   ],
   "source": [
    "%%time\n",
    "\n",
    "gpu_covariates.describe()"
   ]
  },
  {
   "cell_type": "markdown",
   "metadata": {},
   "source": [
    "In order to train and test the Random Forest model, we'll need to split the data into training and testing data. Fortunately, cuML implements this function, which operates exactly like Scikit-Learn's `train_test_split`"
   ]
  },
  {
   "cell_type": "markdown",
   "metadata": {},
   "source": [
    "### Data splitting"
   ]
  },
  {
   "cell_type": "code",
   "execution_count": 8,
   "metadata": {},
   "outputs": [],
   "source": [
    "X_pd_train, X_pd_test, y_pd_train, y_pd_test = tts_cpu(cpu_covariates,\n",
    "                                                     cpu_training_predictors,\n",
    "                                                     shuffle=True,\n",
    "                                                     train_size=0.8)"
   ]
  },
  {
   "cell_type": "code",
   "execution_count": 9,
   "metadata": {},
   "outputs": [],
   "source": [
    "X_cudf_train, X_cudf_test, y_cudf_train, y_cudf_test = tts_gpu(gpu_covariates, \n",
    "                                                                gpu_training_predictors, \n",
    "                                                                shuffle=True, \n",
    "                                                                train_size = 0.8)"
   ]
  },
  {
   "cell_type": "code",
   "execution_count": 10,
   "metadata": {},
   "outputs": [
    {
     "name": "stdout",
     "output_type": "stream",
     "text": [
      "Training features shape:  (4194, 10)\n",
      "Training labels shape:  (4194,)\n",
      "Testing features shape:  (1049, 10)\n",
      "Testing labels shape:  (1049,)\n"
     ]
    }
   ],
   "source": [
    "print('Training features shape: ', X_pd_train.shape)\n",
    "print('Training labels shape: ', y_pd_train.shape)\n",
    "print('Testing features shape: ', X_pd_test.shape)\n",
    "print('Testing labels shape: ', y_pd_test.shape)"
   ]
  },
  {
   "cell_type": "markdown",
   "metadata": {},
   "source": [
    "## Scikit Random Forest Regressor"
   ]
  },
  {
   "cell_type": "markdown",
   "metadata": {},
   "source": [
    "### Fit"
   ]
  },
  {
   "cell_type": "code",
   "execution_count": 11,
   "metadata": {},
   "outputs": [
    {
     "name": "stdout",
     "output_type": "stream",
     "text": [
      "CPU times: user 29.9 s, sys: 264 ms, total: 30.1 s\n",
      "Wall time: 30.1 s\n"
     ]
    },
    {
     "data": {
      "text/plain": [
       "RandomForestRegressor(max_depth=50, n_estimators=1000, random_state=42)"
      ]
     },
     "execution_count": 11,
     "metadata": {},
     "output_type": "execute_result"
    }
   ],
   "source": [
    "%%time\n",
    "\n",
    "sk_model = skrfr(n_estimators = 1000,\n",
    "                max_depth = 50,\n",
    "                max_features= 'auto',\n",
    "                random_state= 42\n",
    "                )\n",
    "\n",
    "sk_model.fit(X_pd_train, y_pd_train)"
   ]
  },
  {
   "cell_type": "markdown",
   "metadata": {},
   "source": [
    "### Evaluate"
   ]
  },
  {
   "cell_type": "code",
   "execution_count": 12,
   "metadata": {},
   "outputs": [
    {
     "name": "stdout",
     "output_type": "stream",
     "text": [
      "CPU times: user 279 ms, sys: 42.6 ms, total: 322 ms\n",
      "Wall time: 319 ms\n"
     ]
    }
   ],
   "source": [
    "%%time\n",
    "\n",
    "sk_predict = sk_model.predict(X_pd_test)\n",
    "\n",
    "mae_sk_model = mean_squared_error(y_pd_test, sk_predict)\n",
    "r2_sk_model = r2_score(y_pd_test, sk_predict)"
   ]
  },
  {
   "cell_type": "markdown",
   "metadata": {},
   "source": [
    "## cuML Random Forest Regressor\n",
    "\n",
    "Here we're going to initialize and fit the cuML model. Given the speed-up we get from GPU-based computations, we can afford a large Random Forest. \n",
    "\n",
    "Note: Igonore the warnings you may get with this."
   ]
  },
  {
   "cell_type": "markdown",
   "metadata": {},
   "source": [
    "### Fit"
   ]
  },
  {
   "cell_type": "code",
   "execution_count": 13,
   "metadata": {},
   "outputs": [
    {
     "name": "stderr",
     "output_type": "stream",
     "text": [
      "/home/cssprad1/.conda/envs/rapids-0.16/lib/python3.7/site-packages/ipykernel_launcher.py:4: UserWarning: For reproducible results in Random Forest Classifier or for almost reproducible results in Random Forest Regressor, n_streams==1 is recommended. If n_streams is > 1, results may vary due to stream/thread timing differences, even when random_state is set\n",
      "  after removing the cwd from sys.path.\n"
     ]
    },
    {
     "name": "stdout",
     "output_type": "stream",
     "text": [
      "CPU times: user 7.1 s, sys: 4.68 s, total: 11.8 s\n",
      "Wall time: 4.99 s\n"
     ]
    },
    {
     "data": {
      "text/plain": [
       "RandomForestRegressor(split_criterion=2, accuracy_metric='r2', handle=<cuml.raft.common.handle.Handle object at 0x7f41938592d0>, verbose=4, output_type='cudf')"
      ]
     },
     "execution_count": 13,
     "metadata": {},
     "output_type": "execute_result"
    }
   ],
   "source": [
    "%%time\n",
    "\n",
    "cuml_model = curfr(n_estimators=1000,\n",
    "                  max_depth = 50,\n",
    "                  max_features = 'auto',\n",
    "                  random_state = 42)\n",
    "\n",
    "cuml_model.fit(X_cudf_train, y_cudf_train)"
   ]
  },
  {
   "cell_type": "markdown",
   "metadata": {},
   "source": [
    "### Evaluate"
   ]
  },
  {
   "cell_type": "code",
   "execution_count": 14,
   "metadata": {},
   "outputs": [
    {
     "name": "stdout",
     "output_type": "stream",
     "text": [
      "CPU times: user 2.59 s, sys: 807 ms, total: 3.39 s\n",
      "Wall time: 3.34 s\n"
     ]
    }
   ],
   "source": [
    "%%time\n",
    "\n",
    "predictions = cuml_model.predict(X_cudf_test)\n",
    "\n",
    "mae_cuml_model = mean_squared_error(y_cudf_test.to_array(), predictions.to_array())\n",
    "r2_cuml_model = r2_score(y_cudf_test.to_array(), predictions.to_array())"
   ]
  },
  {
   "cell_type": "markdown",
   "metadata": {},
   "source": [
    "# Compare and examine results"
   ]
  },
  {
   "cell_type": "markdown",
   "metadata": {},
   "source": [
    "### Compare CPU vs GPU"
   ]
  },
  {
   "cell_type": "code",
   "execution_count": 15,
   "metadata": {},
   "outputs": [
    {
     "name": "stdout",
     "output_type": "stream",
     "text": [
      "CUML mean absolute error of RF model before saving: 0.06138272\n",
      "Scikit mean absolute error of RF model after saving: 0.04066270090645786\n",
      "CUML r^2 score of RF model before saving: 0.6480579788950331\n",
      "Scikit r^2 score of RF model after saving: 0.7709870112021907\n"
     ]
    }
   ],
   "source": [
    "print('CUML mean absolute error of RF model before saving: %s' % mae_cuml_model)\n",
    "print('Scikit mean absolute error of RF model after saving: %s' % mae_sk_model)\n",
    "\n",
    "print('CUML r^2 score of RF model before saving: %s' % r2_cuml_model)\n",
    "print('Scikit r^2 score of RF model after saving: %s' % r2_sk_model)"
   ]
  },
  {
   "cell_type": "markdown",
   "metadata": {},
   "source": [
    "## Results Visualization\n",
    "\n",
    "Here we can use JupyterHub to examine plots inline."
   ]
  },
  {
   "cell_type": "code",
   "execution_count": 16,
   "metadata": {},
   "outputs": [
    {
     "data": {
      "image/png": "[encoded data removed]",
      "text/plain": [
       "<Figure size 432x288 with 1 Axes>"
      ]
     },
     "metadata": {
      "needs_background": "light"
     },
     "output_type": "display_data"
    }
   ],
   "source": [
    "plt.scatter(y_cudf_test.to_array(), predictions.to_array())\n",
    "plt.xlabel(\"Actual Depth: $Y_i$\")\n",
    "plt.ylabel(\"Predicted Depth: $\\hat{Y}_i$\")\n",
    "plt.title(\"cuML RF Actual vs Predicted\")\n",
    "plt.show()"
   ]
  },
  {
   "cell_type": "markdown",
   "metadata": {},
   "source": [
    "Let's look at a random sample of datapoints to see the actual vs predicted depths"
   ]
  },
  {
   "cell_type": "code",
   "execution_count": 17,
   "metadata": {},
   "outputs": [
    {
     "name": "stdout",
     "output_type": "stream",
     "text": [
      "Data-point:   416 Actual:   1.7556500434875488 Predicted: 1.7169930934906006\n",
      "Data-point:  1030 Actual:    1.728219985961914 Predicted: 1.7078977823257446\n",
      "Data-point:   416 Actual:   1.7556500434875488 Predicted: 1.7169930934906006\n",
      "Data-point:   544 Actual:    1.609339952468872 Predicted: 1.4851900339126587\n",
      "Data-point:   157 Actual:   1.2202199697494507 Predicted: 1.0564881563186646\n",
      "Data-point:   212 Actual:   0.7254239916801453 Predicted: 0.9852567315101624\n",
      "Data-point:    96 Actual:   0.7640320062637329 Predicted: 1.0556926727294922\n",
      "Data-point:   401 Actual:   1.3898899555206299 Predicted: 0.901450514793396\n",
      "Data-point:   669 Actual:   0.6370319724082947 Predicted: 0.8520861268043518\n",
      "Data-point:    74 Actual:   1.4110000133514404 Predicted: 0.9148826003074646\n",
      "Data-point:   445 Actual:   1.0744199752807617 Predicted: 0.9252614378929138\n",
      "Data-point:   615 Actual:    1.321310043334961 Predicted: 1.187759280204773\n",
      "Data-point:   194 Actual:   1.1765300035476685 Predicted: 1.0812634229660034\n",
      "Data-point:   161 Actual:   1.7480299472808838 Predicted: 1.7200701236724854\n",
      "Data-point:   746 Actual:    1.435610055923462 Predicted: 1.4961403608322144\n",
      "Data-point:    18 Actual:     1.86080002784729 Predicted: 1.8630210161209106\n",
      "Data-point:   358 Actual:   1.5102800130844116 Predicted: 1.2213491201400757\n",
      "Data-point:   132 Actual:   1.7739399671554565 Predicted: 1.6029272079467773\n",
      "Data-point:   230 Actual:   1.3319799900054932 Predicted: 0.9311625361442566\n",
      "Data-point:   816 Actual:   1.4843800067901611 Predicted: 1.41322922706604\n"
     ]
    }
   ],
   "source": [
    "# Lets look at a random sample of datapoints to see the actual vs predicted depths\n",
    "for i in range(20):\n",
    "    random_data_point = random.randint(0, 1048)\n",
    "    print('Data-point: {:5} Actual: {:20} Predicted: {}'.format(random_data_point, y_cudf_test.to_array()[random_data_point],\n",
    "                                               predictions.to_array()[random_data_point]))"
   ]
  },
  {
   "cell_type": "markdown",
   "metadata": {},
   "source": [
    "# Using sklearn with GPU models\n",
    "\n",
    "### We can use most of sklearn's tools on our cuML models, one example being permutation importance!\n",
    "\n",
    "Find the permutation importance using sklearn's implementation (works with cuML models)\n",
    "\n",
    "Note: Be wary of running this with the 390 band dataset, it could take a VERY long time..."
   ]
  },
  {
   "cell_type": "code",
   "execution_count": 18,
   "metadata": {},
   "outputs": [
    {
     "name": "stdout",
     "output_type": "stream",
     "text": [
      "Variables: b73_ang201           Importance: 0.46938\n",
      "Variables: b67_ang201           Importance: 0.32985\n",
      "Variables: b78_ang201           Importance: 0.29206\n",
      "Variables: b61_ang201           Importance: 0.24136\n",
      "Variables: b59_ang201           Importance: 0.19638\n",
      "Variables: b60_ang201           Importance: 0.19358\n",
      "Variables: b65_ang201           Importance: 0.12082\n",
      "Variables: b74_ang201           Importance: 0.10875\n",
      "Variables: b76_ang201           Importance: 0.07539\n",
      "Variables: b62_ang201           Importance: 0.0428\n",
      "CPU times: user 12.3 s, sys: 1.99 s, total: 14.3 s\n",
      "Wall time: 14.3 s\n"
     ]
    }
   ],
   "source": [
    "%%time\n",
    "\n",
    "perm_imp = permutation_importance(cuml_model, X_cudf_test, y_cudf_test)\n",
    "spectral_bands_list = list(gpu_covariates.columns)\n",
    "importances = perm_imp.importances_mean\n",
    "feature_importances = [(feature, (round(importance, 5))) for\n",
    "                      feature, importance in zip(spectral_bands_list, importances)]\n",
    "feature_importances = sorted(feature_importances, key = lambda x: x[1], reverse = True)\n",
    "_ = [print('Variables: {:20} Importance: {}'.format(*pair)) for pair in feature_importances]"
   ]
  },
  {
   "cell_type": "code",
   "execution_count": null,
   "metadata": {},
   "outputs": [],
   "source": []
  }
 ],
 "metadata": {
  "kernelspec": {
   "display_name": "Python [conda env:.conda-rapids-0.16]",
   "language": "python",
   "name": "conda-env-.conda-rapids-0.16-py"
  },
  "language_info": {
   "codemirror_mode": {
    "name": "ipython",
    "version": 3
   },
   "file_extension": ".py",
   "mimetype": "text/x-python",
   "name": "python",
   "nbconvert_exporter": "python",
   "pygments_lexer": "ipython3",
   "version": "3.7.8"
  }
 },
 "nbformat": 4,
 "nbformat_minor": 4
}
